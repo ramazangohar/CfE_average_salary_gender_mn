{
 "cells": [
  {
   "cell_type": "markdown",
   "id": "ea8aa499-7f5e-454a-be5d-853ef1218735",
   "metadata": {},
   "source": [
    "# Average salary data of all regions of Mongolia by gender (2020-2023)."
   ]
  },
  {
   "cell_type": "code",
   "execution_count": 129,
   "id": "4a68b249-f1fe-4aa2-8688-c919c74e8874",
   "metadata": {},
   "outputs": [],
   "source": [
    "import os\n",
    "os.chdir(\"/Users/itgeltbatochir/Desktop/Coding_for_Econ/salary_avr_MN\")"
   ]
  },
  {
   "cell_type": "code",
   "execution_count": 131,
   "id": "a20b55c0-5dc8-46ba-8771-b1b4be5849a4",
   "metadata": {},
   "outputs": [],
   "source": [
    "import pandas as pd\n",
    "\n",
    "data = pd.read_csv(\"data/average_salary.csv\")\n"
   ]
  },
  {
   "cell_type": "code",
   "execution_count": 133,
   "id": "c0ed2e69-d3a8-4f92-92f3-f7af1dafc674",
   "metadata": {},
   "outputs": [
    {
     "data": {
      "text/html": [
       "<div>\n",
       "<style scoped>\n",
       "    .dataframe tbody tr th:only-of-type {\n",
       "        vertical-align: middle;\n",
       "    }\n",
       "\n",
       "    .dataframe tbody tr th {\n",
       "        vertical-align: top;\n",
       "    }\n",
       "\n",
       "    .dataframe thead th {\n",
       "        text-align: right;\n",
       "    }\n",
       "</style>\n",
       "<table border=\"1\" class=\"dataframe\">\n",
       "  <thead>\n",
       "    <tr style=\"text-align: right;\">\n",
       "      <th></th>\n",
       "      <th>Аймаг</th>\n",
       "      <th>Хүйс</th>\n",
       "      <th>2020</th>\n",
       "      <th>2021</th>\n",
       "      <th>2022</th>\n",
       "      <th>2023</th>\n",
       "    </tr>\n",
       "  </thead>\n",
       "  <tbody>\n",
       "    <tr>\n",
       "      <th>0</th>\n",
       "      <td>Улсын дүн</td>\n",
       "      <td>Бүгд</td>\n",
       "      <td>1,220.6</td>\n",
       "      <td>1,279.4</td>\n",
       "      <td>1,503.8</td>\n",
       "      <td>1,881.8</td>\n",
       "    </tr>\n",
       "    <tr>\n",
       "      <th>1</th>\n",
       "      <td>Улсын дүн</td>\n",
       "      <td>Эрэгтэй</td>\n",
       "      <td>1,326.2</td>\n",
       "      <td>1,390.1</td>\n",
       "      <td>1,642.8</td>\n",
       "      <td>2,103.4</td>\n",
       "    </tr>\n",
       "    <tr>\n",
       "      <th>2</th>\n",
       "      <td>Улсын дүн</td>\n",
       "      <td>Эмэгтэй</td>\n",
       "      <td>1,109.6</td>\n",
       "      <td>1,163.1</td>\n",
       "      <td>1,360.5</td>\n",
       "      <td>1,651.9</td>\n",
       "    </tr>\n",
       "    <tr>\n",
       "      <th>3</th>\n",
       "      <td>Баян-Өлгий</td>\n",
       "      <td>Бүгд</td>\n",
       "      <td>825.0</td>\n",
       "      <td>851.9</td>\n",
       "      <td>943.4</td>\n",
       "      <td>1,247.2</td>\n",
       "    </tr>\n",
       "    <tr>\n",
       "      <th>4</th>\n",
       "      <td>Баян-Өлгий</td>\n",
       "      <td>Эрэгтэй</td>\n",
       "      <td>812.1</td>\n",
       "      <td>832.7</td>\n",
       "      <td>908.0</td>\n",
       "      <td>1,260.0</td>\n",
       "    </tr>\n",
       "  </tbody>\n",
       "</table>\n",
       "</div>"
      ],
      "text/plain": [
       "        Аймаг     Хүйс     2020     2021     2022     2023\n",
       "0   Улсын дүн     Бүгд  1,220.6  1,279.4  1,503.8  1,881.8\n",
       "1   Улсын дүн  Эрэгтэй  1,326.2  1,390.1  1,642.8  2,103.4\n",
       "2   Улсын дүн  Эмэгтэй  1,109.6  1,163.1  1,360.5  1,651.9\n",
       "3  Баян-Өлгий     Бүгд    825.0    851.9    943.4  1,247.2\n",
       "4  Баян-Өлгий  Эрэгтэй    812.1    832.7    908.0  1,260.0"
      ]
     },
     "metadata": {},
     "output_type": "display_data"
    },
    {
     "name": "stdout",
     "output_type": "stream",
     "text": [
      "<class 'pandas.core.frame.DataFrame'>\n",
      "RangeIndex: 69 entries, 0 to 68\n",
      "Data columns (total 6 columns):\n",
      " #   Column  Non-Null Count  Dtype \n",
      "---  ------  --------------  ----- \n",
      " 0   Аймаг   69 non-null     object\n",
      " 1   Хүйс    69 non-null     object\n",
      " 2   2020    69 non-null     object\n",
      " 3   2021    69 non-null     object\n",
      " 4   2022    69 non-null     object\n",
      " 5   2023    69 non-null     object\n",
      "dtypes: object(6)\n",
      "memory usage: 3.4+ KB\n"
     ]
    }
   ],
   "source": [
    "display(data.head())\n",
    "data.info()\n",
    "\n"
   ]
  },
  {
   "cell_type": "code",
   "execution_count": 135,
   "id": "936eae4b-652f-46d2-86d6-4de5d6afe4c3",
   "metadata": {
    "scrolled": true
   },
   "outputs": [
    {
     "data": {
      "text/html": [
       "<div>\n",
       "<style scoped>\n",
       "    .dataframe tbody tr th:only-of-type {\n",
       "        vertical-align: middle;\n",
       "    }\n",
       "\n",
       "    .dataframe tbody tr th {\n",
       "        vertical-align: top;\n",
       "    }\n",
       "\n",
       "    .dataframe thead th {\n",
       "        text-align: right;\n",
       "    }\n",
       "</style>\n",
       "<table border=\"1\" class=\"dataframe\">\n",
       "  <thead>\n",
       "    <tr style=\"text-align: right;\">\n",
       "      <th></th>\n",
       "      <th>Аймаг</th>\n",
       "      <th>Хүйс</th>\n",
       "      <th>2020</th>\n",
       "      <th>2021</th>\n",
       "      <th>2022</th>\n",
       "      <th>2023</th>\n",
       "    </tr>\n",
       "  </thead>\n",
       "  <tbody>\n",
       "    <tr>\n",
       "      <th>count</th>\n",
       "      <td>69</td>\n",
       "      <td>69</td>\n",
       "      <td>69</td>\n",
       "      <td>69</td>\n",
       "      <td>69</td>\n",
       "      <td>69</td>\n",
       "    </tr>\n",
       "    <tr>\n",
       "      <th>unique</th>\n",
       "      <td>23</td>\n",
       "      <td>3</td>\n",
       "      <td>69</td>\n",
       "      <td>69</td>\n",
       "      <td>69</td>\n",
       "      <td>68</td>\n",
       "    </tr>\n",
       "    <tr>\n",
       "      <th>top</th>\n",
       "      <td>Улсын дүн</td>\n",
       "      <td>Бүгд</td>\n",
       "      <td>1,220.6</td>\n",
       "      <td>1,279.4</td>\n",
       "      <td>1,503.8</td>\n",
       "      <td>1,372.6</td>\n",
       "    </tr>\n",
       "    <tr>\n",
       "      <th>freq</th>\n",
       "      <td>3</td>\n",
       "      <td>23</td>\n",
       "      <td>1</td>\n",
       "      <td>1</td>\n",
       "      <td>1</td>\n",
       "      <td>2</td>\n",
       "    </tr>\n",
       "  </tbody>\n",
       "</table>\n",
       "</div>"
      ],
      "text/plain": [
       "            Аймаг  Хүйс     2020     2021     2022     2023\n",
       "count          69    69       69       69       69       69\n",
       "unique         23     3       69       69       69       68\n",
       "top     Улсын дүн  Бүгд  1,220.6  1,279.4  1,503.8  1,372.6\n",
       "freq            3    23        1        1        1        2"
      ]
     },
     "metadata": {},
     "output_type": "display_data"
    }
   ],
   "source": [
    "# Summary table\n",
    "display(data.describe())"
   ]
  },
  {
   "cell_type": "code",
   "execution_count": 139,
   "id": "177d7098-c2eb-494d-becc-da4c18ad8b8a",
   "metadata": {
    "scrolled": true
   },
   "outputs": [
    {
     "data": {
      "text/html": [
       "<div>\n",
       "<style scoped>\n",
       "    .dataframe tbody tr th:only-of-type {\n",
       "        vertical-align: middle;\n",
       "    }\n",
       "\n",
       "    .dataframe tbody tr th {\n",
       "        vertical-align: top;\n",
       "    }\n",
       "\n",
       "    .dataframe thead th {\n",
       "        text-align: right;\n",
       "    }\n",
       "</style>\n",
       "<table border=\"1\" class=\"dataframe\">\n",
       "  <thead>\n",
       "    <tr style=\"text-align: right;\">\n",
       "      <th></th>\n",
       "      <th>Аймаг</th>\n",
       "      <th>Хүйс</th>\n",
       "      <th>2020</th>\n",
       "      <th>2021</th>\n",
       "      <th>2022</th>\n",
       "      <th>2023</th>\n",
       "    </tr>\n",
       "  </thead>\n",
       "  <tbody>\n",
       "    <tr>\n",
       "      <th>0</th>\n",
       "      <td>Улсын дүн</td>\n",
       "      <td>Бүгд</td>\n",
       "      <td>1,220.6</td>\n",
       "      <td>1,279.4</td>\n",
       "      <td>1,503.8</td>\n",
       "      <td>1,881.8</td>\n",
       "    </tr>\n",
       "    <tr>\n",
       "      <th>1</th>\n",
       "      <td>Улсын дүн</td>\n",
       "      <td>Эрэгтэй</td>\n",
       "      <td>1,326.2</td>\n",
       "      <td>1,390.1</td>\n",
       "      <td>1,642.8</td>\n",
       "      <td>2,103.4</td>\n",
       "    </tr>\n",
       "    <tr>\n",
       "      <th>2</th>\n",
       "      <td>Улсын дүн</td>\n",
       "      <td>Эмэгтэй</td>\n",
       "      <td>1,109.6</td>\n",
       "      <td>1,163.1</td>\n",
       "      <td>1,360.5</td>\n",
       "      <td>1,651.9</td>\n",
       "    </tr>\n",
       "    <tr>\n",
       "      <th>3</th>\n",
       "      <td>Баян-Өлгий</td>\n",
       "      <td>Бүгд</td>\n",
       "      <td>825.0</td>\n",
       "      <td>851.9</td>\n",
       "      <td>943.4</td>\n",
       "      <td>1,247.2</td>\n",
       "    </tr>\n",
       "    <tr>\n",
       "      <th>4</th>\n",
       "      <td>Баян-Өлгий</td>\n",
       "      <td>Эрэгтэй</td>\n",
       "      <td>812.1</td>\n",
       "      <td>832.7</td>\n",
       "      <td>908.0</td>\n",
       "      <td>1,260.0</td>\n",
       "    </tr>\n",
       "    <tr>\n",
       "      <th>...</th>\n",
       "      <td>...</td>\n",
       "      <td>...</td>\n",
       "      <td>...</td>\n",
       "      <td>...</td>\n",
       "      <td>...</td>\n",
       "      <td>...</td>\n",
       "    </tr>\n",
       "    <tr>\n",
       "      <th>64</th>\n",
       "      <td>Хэнтий</td>\n",
       "      <td>Эрэгтэй</td>\n",
       "      <td>1,105.4</td>\n",
       "      <td>1,165.9</td>\n",
       "      <td>1,300.7</td>\n",
       "      <td>1,762.9</td>\n",
       "    </tr>\n",
       "    <tr>\n",
       "      <th>65</th>\n",
       "      <td>Хэнтий</td>\n",
       "      <td>Эмэгтэй</td>\n",
       "      <td>934.5</td>\n",
       "      <td>984.3</td>\n",
       "      <td>1,104.6</td>\n",
       "      <td>1,455.3</td>\n",
       "    </tr>\n",
       "    <tr>\n",
       "      <th>66</th>\n",
       "      <td>Улаанбаатар</td>\n",
       "      <td>Бүгд</td>\n",
       "      <td>1,312.6</td>\n",
       "      <td>1,370.7</td>\n",
       "      <td>1,608.8</td>\n",
       "      <td>1,970.7</td>\n",
       "    </tr>\n",
       "    <tr>\n",
       "      <th>67</th>\n",
       "      <td>Улаанбаатар</td>\n",
       "      <td>Эрэгтэй</td>\n",
       "      <td>1,419.6</td>\n",
       "      <td>1,486.2</td>\n",
       "      <td>1,742.3</td>\n",
       "      <td>2,196.4</td>\n",
       "    </tr>\n",
       "    <tr>\n",
       "      <th>68</th>\n",
       "      <td>Улаанбаатар</td>\n",
       "      <td>Эмэгтэй</td>\n",
       "      <td>1,193.4</td>\n",
       "      <td>1,243.5</td>\n",
       "      <td>1,464.5</td>\n",
       "      <td>1,725.6</td>\n",
       "    </tr>\n",
       "  </tbody>\n",
       "</table>\n",
       "<p>69 rows × 6 columns</p>\n",
       "</div>"
      ],
      "text/plain": [
       "          Аймаг     Хүйс     2020     2021     2022     2023\n",
       "0     Улсын дүн     Бүгд  1,220.6  1,279.4  1,503.8  1,881.8\n",
       "1     Улсын дүн  Эрэгтэй  1,326.2  1,390.1  1,642.8  2,103.4\n",
       "2     Улсын дүн  Эмэгтэй  1,109.6  1,163.1  1,360.5  1,651.9\n",
       "3    Баян-Өлгий     Бүгд    825.0    851.9    943.4  1,247.2\n",
       "4    Баян-Өлгий  Эрэгтэй    812.1    832.7    908.0  1,260.0\n",
       "..          ...      ...      ...      ...      ...      ...\n",
       "64       Хэнтий  Эрэгтэй  1,105.4  1,165.9  1,300.7  1,762.9\n",
       "65       Хэнтий  Эмэгтэй    934.5    984.3  1,104.6  1,455.3\n",
       "66  Улаанбаатар     Бүгд  1,312.6  1,370.7  1,608.8  1,970.7\n",
       "67  Улаанбаатар  Эрэгтэй  1,419.6  1,486.2  1,742.3  2,196.4\n",
       "68  Улаанбаатар  Эмэгтэй  1,193.4  1,243.5  1,464.5  1,725.6\n",
       "\n",
       "[69 rows x 6 columns]"
      ]
     },
     "metadata": {},
     "output_type": "display_data"
    }
   ],
   "source": [
    "display(data)"
   ]
  },
  {
   "cell_type": "code",
   "execution_count": 141,
   "id": "27415f07-8017-4c16-aebd-fbe95f0d3ff2",
   "metadata": {},
   "outputs": [
    {
     "name": "stdout",
     "output_type": "stream",
     "text": [
      "Аймаг    object\n",
      "Хүйс     object\n",
      "2020     object\n",
      "2021     object\n",
      "2022     object\n",
      "2023     object\n",
      "dtype: object\n"
     ]
    }
   ],
   "source": [
    "print(data.dtypes)"
   ]
  },
  {
   "cell_type": "markdown",
   "id": "497147fd-41d5-4151-b0cf-5699fecefdb1",
   "metadata": {},
   "source": [
    "Everything is type object, need to convert!"
   ]
  },
  {
   "cell_type": "code",
   "execution_count": 145,
   "id": "12191045-7f64-4b5d-88ca-9a70b276b720",
   "metadata": {
    "scrolled": true
   },
   "outputs": [
    {
     "name": "stdout",
     "output_type": "stream",
     "text": [
      "Index(['province', 'gndr', '2020', '2021', '2022', '2023'], dtype='object')\n"
     ]
    }
   ],
   "source": [
    "# Rename columns\n",
    "data.rename(columns={\n",
    "    'Аймаг': 'province',\n",
    "    'Хүйс': 'gndr'\n",
    "}, inplace=True)\n",
    "\n",
    "print( data.columns)"
   ]
  },
  {
   "cell_type": "markdown",
   "id": "d086b144-5eb6-484b-8b04-56f0e6599131",
   "metadata": {},
   "source": [
    "Gender as binary. "
   ]
  },
  {
   "cell_type": "code",
   "execution_count": 147,
   "id": "7e63052d-c79d-4a18-9a93-74514f118726",
   "metadata": {
    "scrolled": true
   },
   "outputs": [
    {
     "name": "stdout",
     "output_type": "stream",
     "text": [
      "['all' 0 1]\n"
     ]
    }
   ],
   "source": [
    "data['gndr'] = data['gndr'].replace({'Эрэгтэй': 0, 'Эмэгтэй': 1})\n",
    "\n",
    "data['gndr'] = data['gndr'].replace({\n",
    "    'Бүгд': 'all',})\n",
    "\n",
    "# Verify the changes\n",
    "print(data['gndr'].unique())\n"
   ]
  },
  {
   "cell_type": "code",
   "execution_count": 149,
   "id": "7c4d7252-04ab-4b4b-a981-abf78a367880",
   "metadata": {
    "scrolled": true
   },
   "outputs": [
    {
     "name": "stdout",
     "output_type": "stream",
     "text": [
      "province    string[python]\n",
      "gndr                object\n",
      "2020                object\n",
      "2021                object\n",
      "2022                object\n",
      "2023                object\n",
      "dtype: object\n"
     ]
    }
   ],
   "source": [
    "# Convert obj to string\n",
    "data['province'] = data['province'].astype('string')\n",
    "print(data.dtypes)\n"
   ]
  },
  {
   "cell_type": "markdown",
   "id": "13070112-c3ab-461a-8fc8-17d9e4a2e99c",
   "metadata": {},
   "source": [
    "### Let's use loop to turn columns 1992-2023 into a numeric variable."
   ]
  },
  {
   "cell_type": "code",
   "execution_count": 151,
   "id": "73292a79-9219-4d25-b7e3-c52dfcd7faf3",
   "metadata": {},
   "outputs": [
    {
     "name": "stdout",
     "output_type": "stream",
     "text": [
      "province    string[python]\n",
      "gndr                object\n",
      "2020               float64\n",
      "2021               float64\n",
      "2022               float64\n",
      "2023               float64\n",
      "dtype: object\n"
     ]
    }
   ],
   "source": [
    "for year in range(2020, 2024):\n",
    "    data[str(year)] = data[str(year)].replace({',': ''}, regex=True).astype(float)\n",
    "\n",
    "# Verify new types\n",
    "print(data.dtypes)\n"
   ]
  },
  {
   "cell_type": "markdown",
   "id": "f03b8bc3-a122-4b95-9914-3d54b29d9773",
   "metadata": {},
   "source": [
    "All ready\n"
   ]
  },
  {
   "cell_type": "code",
   "execution_count": 153,
   "id": "f3e6bf96-6279-40a8-ac81-fc43093a02b7",
   "metadata": {},
   "outputs": [
    {
     "data": {
      "text/html": [
       "<div>\n",
       "<style scoped>\n",
       "    .dataframe tbody tr th:only-of-type {\n",
       "        vertical-align: middle;\n",
       "    }\n",
       "\n",
       "    .dataframe tbody tr th {\n",
       "        vertical-align: top;\n",
       "    }\n",
       "\n",
       "    .dataframe thead th {\n",
       "        text-align: right;\n",
       "    }\n",
       "</style>\n",
       "<table border=\"1\" class=\"dataframe\">\n",
       "  <thead>\n",
       "    <tr style=\"text-align: right;\">\n",
       "      <th></th>\n",
       "      <th>province</th>\n",
       "      <th>gndr</th>\n",
       "      <th>2020</th>\n",
       "      <th>2021</th>\n",
       "      <th>2022</th>\n",
       "      <th>2023</th>\n",
       "    </tr>\n",
       "  </thead>\n",
       "  <tbody>\n",
       "    <tr>\n",
       "      <th>0</th>\n",
       "      <td>Улсын дүн</td>\n",
       "      <td>all</td>\n",
       "      <td>1220.6</td>\n",
       "      <td>1279.4</td>\n",
       "      <td>1503.8</td>\n",
       "      <td>1881.8</td>\n",
       "    </tr>\n",
       "    <tr>\n",
       "      <th>1</th>\n",
       "      <td>Улсын дүн</td>\n",
       "      <td>0</td>\n",
       "      <td>1326.2</td>\n",
       "      <td>1390.1</td>\n",
       "      <td>1642.8</td>\n",
       "      <td>2103.4</td>\n",
       "    </tr>\n",
       "    <tr>\n",
       "      <th>2</th>\n",
       "      <td>Улсын дүн</td>\n",
       "      <td>1</td>\n",
       "      <td>1109.6</td>\n",
       "      <td>1163.1</td>\n",
       "      <td>1360.5</td>\n",
       "      <td>1651.9</td>\n",
       "    </tr>\n",
       "    <tr>\n",
       "      <th>3</th>\n",
       "      <td>Баян-Өлгий</td>\n",
       "      <td>all</td>\n",
       "      <td>825.0</td>\n",
       "      <td>851.9</td>\n",
       "      <td>943.4</td>\n",
       "      <td>1247.2</td>\n",
       "    </tr>\n",
       "    <tr>\n",
       "      <th>4</th>\n",
       "      <td>Баян-Өлгий</td>\n",
       "      <td>0</td>\n",
       "      <td>812.1</td>\n",
       "      <td>832.7</td>\n",
       "      <td>908.0</td>\n",
       "      <td>1260.0</td>\n",
       "    </tr>\n",
       "    <tr>\n",
       "      <th>...</th>\n",
       "      <td>...</td>\n",
       "      <td>...</td>\n",
       "      <td>...</td>\n",
       "      <td>...</td>\n",
       "      <td>...</td>\n",
       "      <td>...</td>\n",
       "    </tr>\n",
       "    <tr>\n",
       "      <th>64</th>\n",
       "      <td>Хэнтий</td>\n",
       "      <td>0</td>\n",
       "      <td>1105.4</td>\n",
       "      <td>1165.9</td>\n",
       "      <td>1300.7</td>\n",
       "      <td>1762.9</td>\n",
       "    </tr>\n",
       "    <tr>\n",
       "      <th>65</th>\n",
       "      <td>Хэнтий</td>\n",
       "      <td>1</td>\n",
       "      <td>934.5</td>\n",
       "      <td>984.3</td>\n",
       "      <td>1104.6</td>\n",
       "      <td>1455.3</td>\n",
       "    </tr>\n",
       "    <tr>\n",
       "      <th>66</th>\n",
       "      <td>Улаанбаатар</td>\n",
       "      <td>all</td>\n",
       "      <td>1312.6</td>\n",
       "      <td>1370.7</td>\n",
       "      <td>1608.8</td>\n",
       "      <td>1970.7</td>\n",
       "    </tr>\n",
       "    <tr>\n",
       "      <th>67</th>\n",
       "      <td>Улаанбаатар</td>\n",
       "      <td>0</td>\n",
       "      <td>1419.6</td>\n",
       "      <td>1486.2</td>\n",
       "      <td>1742.3</td>\n",
       "      <td>2196.4</td>\n",
       "    </tr>\n",
       "    <tr>\n",
       "      <th>68</th>\n",
       "      <td>Улаанбаатар</td>\n",
       "      <td>1</td>\n",
       "      <td>1193.4</td>\n",
       "      <td>1243.5</td>\n",
       "      <td>1464.5</td>\n",
       "      <td>1725.6</td>\n",
       "    </tr>\n",
       "  </tbody>\n",
       "</table>\n",
       "<p>69 rows × 6 columns</p>\n",
       "</div>"
      ],
      "text/plain": [
       "       province gndr    2020    2021    2022    2023\n",
       "0     Улсын дүн  all  1220.6  1279.4  1503.8  1881.8\n",
       "1     Улсын дүн    0  1326.2  1390.1  1642.8  2103.4\n",
       "2     Улсын дүн    1  1109.6  1163.1  1360.5  1651.9\n",
       "3    Баян-Өлгий  all   825.0   851.9   943.4  1247.2\n",
       "4    Баян-Өлгий    0   812.1   832.7   908.0  1260.0\n",
       "..          ...  ...     ...     ...     ...     ...\n",
       "64       Хэнтий    0  1105.4  1165.9  1300.7  1762.9\n",
       "65       Хэнтий    1   934.5   984.3  1104.6  1455.3\n",
       "66  Улаанбаатар  all  1312.6  1370.7  1608.8  1970.7\n",
       "67  Улаанбаатар    0  1419.6  1486.2  1742.3  2196.4\n",
       "68  Улаанбаатар    1  1193.4  1243.5  1464.5  1725.6\n",
       "\n",
       "[69 rows x 6 columns]"
      ]
     },
     "metadata": {},
     "output_type": "display_data"
    }
   ],
   "source": [
    "display(data)"
   ]
  },
  {
   "cell_type": "markdown",
   "id": "65d6f35d-68bf-4bcd-99ce-e7aec29b5a53",
   "metadata": {},
   "source": [
    "### Missing values. "
   ]
  },
  {
   "cell_type": "code",
   "execution_count": 155,
   "id": "036b7b08-a77b-43ab-a9f2-a9c5b7b43163",
   "metadata": {},
   "outputs": [
    {
     "name": "stdout",
     "output_type": "stream",
     "text": [
      "province    0\n",
      "gndr        0\n",
      "2020        0\n",
      "2021        0\n",
      "2022        0\n",
      "2023        0\n",
      "dtype: int64\n"
     ]
    }
   ],
   "source": [
    "# Count missing values in each column\n",
    "print(data.isnull().sum())\n"
   ]
  },
  {
   "cell_type": "markdown",
   "id": "c533924e-8713-49b8-967f-3e3edfbeb7fa",
   "metadata": {},
   "source": [
    "Seems there are no missing values. "
   ]
  },
  {
   "cell_type": "code",
   "execution_count": 157,
   "id": "680fbf0a-d4e5-46cc-bbeb-ca9199454862",
   "metadata": {},
   "outputs": [
    {
     "name": "stdout",
     "output_type": "stream",
     "text": [
      "<StringArray>\n",
      "[   'country', 'Баян-Өлгий', 'Говь-Алтай',     'Завхан',        'Увс',\n",
      "       'Ховд',   'Архангай', 'Баянхонгор',     'Булган', 'Өвөрхангай',\n",
      "    'Хөвсгөл',      'Орхон',  'Дорноговь',   'Дундговь',   'Өмнөговь',\n",
      "    'Сэлэнгэ',        'Төв', 'Дархан-Уул', 'Говьсүмбэр',     'Дорнод',\n",
      "  'Сүхбаатар',     'Хэнтий',    'capital']\n",
      "Length: 23, dtype: string\n"
     ]
    }
   ],
   "source": [
    "# I will change the names of needed columns into English as: \n",
    "data['province'] = data['province'].replace({\n",
    "    'Улсын дүн': 'country',\n",
    "    'Улаанбаатар': 'capital'\n",
    "})\n",
    "\n",
    "print(data['province'].unique())\n",
    "\n"
   ]
  },
  {
   "cell_type": "code",
   "execution_count": 159,
   "id": "985eb5b3-0892-41c0-bb5c-4966400847b3",
   "metadata": {},
   "outputs": [
    {
     "data": {
      "text/html": [
       "<div>\n",
       "<style scoped>\n",
       "    .dataframe tbody tr th:only-of-type {\n",
       "        vertical-align: middle;\n",
       "    }\n",
       "\n",
       "    .dataframe tbody tr th {\n",
       "        vertical-align: top;\n",
       "    }\n",
       "\n",
       "    .dataframe thead th {\n",
       "        text-align: right;\n",
       "    }\n",
       "</style>\n",
       "<table border=\"1\" class=\"dataframe\">\n",
       "  <thead>\n",
       "    <tr style=\"text-align: right;\">\n",
       "      <th></th>\n",
       "      <th>province</th>\n",
       "      <th>gndr</th>\n",
       "      <th>2020</th>\n",
       "      <th>2021</th>\n",
       "      <th>2022</th>\n",
       "      <th>2023</th>\n",
       "    </tr>\n",
       "  </thead>\n",
       "  <tbody>\n",
       "    <tr>\n",
       "      <th>0</th>\n",
       "      <td>country</td>\n",
       "      <td>all</td>\n",
       "      <td>1220.6</td>\n",
       "      <td>1279.4</td>\n",
       "      <td>1503.8</td>\n",
       "      <td>1881.8</td>\n",
       "    </tr>\n",
       "    <tr>\n",
       "      <th>1</th>\n",
       "      <td>country</td>\n",
       "      <td>0</td>\n",
       "      <td>1326.2</td>\n",
       "      <td>1390.1</td>\n",
       "      <td>1642.8</td>\n",
       "      <td>2103.4</td>\n",
       "    </tr>\n",
       "    <tr>\n",
       "      <th>2</th>\n",
       "      <td>country</td>\n",
       "      <td>1</td>\n",
       "      <td>1109.6</td>\n",
       "      <td>1163.1</td>\n",
       "      <td>1360.5</td>\n",
       "      <td>1651.9</td>\n",
       "    </tr>\n",
       "    <tr>\n",
       "      <th>66</th>\n",
       "      <td>capital</td>\n",
       "      <td>all</td>\n",
       "      <td>1312.6</td>\n",
       "      <td>1370.7</td>\n",
       "      <td>1608.8</td>\n",
       "      <td>1970.7</td>\n",
       "    </tr>\n",
       "    <tr>\n",
       "      <th>67</th>\n",
       "      <td>capital</td>\n",
       "      <td>0</td>\n",
       "      <td>1419.6</td>\n",
       "      <td>1486.2</td>\n",
       "      <td>1742.3</td>\n",
       "      <td>2196.4</td>\n",
       "    </tr>\n",
       "    <tr>\n",
       "      <th>68</th>\n",
       "      <td>capital</td>\n",
       "      <td>1</td>\n",
       "      <td>1193.4</td>\n",
       "      <td>1243.5</td>\n",
       "      <td>1464.5</td>\n",
       "      <td>1725.6</td>\n",
       "    </tr>\n",
       "  </tbody>\n",
       "</table>\n",
       "</div>"
      ],
      "text/plain": [
       "   province gndr    2020    2021    2022    2023\n",
       "0   country  all  1220.6  1279.4  1503.8  1881.8\n",
       "1   country    0  1326.2  1390.1  1642.8  2103.4\n",
       "2   country    1  1109.6  1163.1  1360.5  1651.9\n",
       "66  capital  all  1312.6  1370.7  1608.8  1970.7\n",
       "67  capital    0  1419.6  1486.2  1742.3  2196.4\n",
       "68  capital    1  1193.4  1243.5  1464.5  1725.6"
      ]
     },
     "metadata": {},
     "output_type": "display_data"
    }
   ],
   "source": [
    "# Let's filter the province of interest, which are country and capital for simplification. \n",
    "cc_data = data[data['province'].isin(['country', 'capital'])]\n",
    "\n",
    "# Display the filtered df. CC stands for country and capital. \n",
    "display(cc_data)\n",
    "\n",
    "\n"
   ]
  },
  {
   "cell_type": "markdown",
   "id": "129069ab-29c0-4aeb-b2b6-c49a7d4eba35",
   "metadata": {},
   "source": [
    "### We will be working on capital and country level average salary data by gender. Run"
   ]
  },
  {
   "cell_type": "code",
   "execution_count": 161,
   "id": "e9f890b7-e46f-4914-ba92-fa0989916a43",
   "metadata": {},
   "outputs": [],
   "source": [
    "# Saving the newly filtered data. \n",
    "file_path = 'data/cc_data.csv'\n",
    "\n",
    "cc_data.to_csv(file_path, index=False)"
   ]
  },
  {
   "cell_type": "markdown",
   "id": "80d3d9c5-aa0d-4f24-831c-88d12f173c80",
   "metadata": {},
   "source": [
    "### Visualisations "
   ]
  },
  {
   "cell_type": "code",
   "execution_count": 192,
   "id": "3995be59-2ae9-4abf-b8d0-12c16db273de",
   "metadata": {},
   "outputs": [
    {
     "data": {
      "image/png": "[encoded data removed]",
      "text/plain": [
       "<Figure size 1200x600 with 1 Axes>"
      ]
     },
     "metadata": {},
     "output_type": "display_data"
    },
    {
     "data": {
      "image/png": "[encoded data removed]",
      "text/plain": [
       "<Figure size 1200x600 with 1 Axes>"
      ]
     },
     "metadata": {},
     "output_type": "display_data"
    }
   ],
   "source": [
    "import matplotlib.pyplot as plt\n",
    "import seaborn as sns\n",
    "\n",
    "# Filter data for \"country\" and \"capital\" separately\n",
    "country_data = cc_data[cc_data['province'] == 'country']\n",
    "capital_data = cc_data[cc_data['province'] == 'capital']\n",
    "\n",
    "# Melt the data to make it suitable for line plot\n",
    "country_melted = country_data.melt(id_vars=['gndr'], value_vars=['2020', '2021', '2022', '2023'], var_name='Year', value_name='Value')\n",
    "capital_melted = capital_data.melt(id_vars=['gndr'], value_vars=['2020', '2021', '2022', '2023'], var_name='Year', value_name='Value')\n",
    "\n",
    "# Plot for country\n",
    "plt.figure(figsize=(12, 6))\n",
    "sns.lineplot(data=country_melted, x='Year', y='Value', hue='gndr', marker='o')\n",
    "plt.title('Yearly Trends by Gender for Country')\n",
    "plt.ylabel('Value')\n",
    "plt.savefig('outputs/Yearly_Trends_by_Gender_for_Country.png')  # Save the plot first\n",
    "plt.show()  \n",
    "\n",
    "# Plot for capital\n",
    "plt.figure(figsize=(12, 6))\n",
    "sns.lineplot(data=capital_melted, x='Year', y='Value', hue='gndr', marker='o')\n",
    "plt.title('Yearly Trends by Gender for Capital')\n",
    "plt.ylabel('Value')\n",
    "plt.savefig('outputs/Yearly_Trends_by_Gender_for_Capital.png')  # Save the plot first\n",
    "plt.show()\n"
   ]
  },
  {
   "cell_type": "markdown",
   "id": "e2f2957f-633e-41d4-94d7-a2b18f58be79",
   "metadata": {},
   "source": [
    "Bar chart illustrates gender pay gap in Mongolia as wide and increasing over time. "
   ]
  },
  {
   "cell_type": "code",
   "execution_count": 194,
   "id": "6f40f219-3961-4940-89ce-6597a4f4ff9f",
   "metadata": {},
   "outputs": [
    {
     "name": "stderr",
     "output_type": "stream",
     "text": [
      "/var/folders/6c/856yvq2d5s3g6pxx_m61h5mm0000gn/T/ipykernel_90685/204850067.py:8: FutureWarning: \n",
      "\n",
      "The `ci` parameter is deprecated. Use `errorbar=None` for the same effect.\n",
      "\n",
      "  sns.barplot(data=melted_data, x='Year', y='Value', hue='gndr', ci=None, palette='pastel')\n"
     ]
    },
    {
     "data": {
      "image/png": "[encoded data removed]",
      "text/plain": [
       "<Figure size 1400x800 with 1 Axes>"
      ]
     },
     "metadata": {},
     "output_type": "display_data"
    }
   ],
   "source": [
    "import matplotlib.pyplot as plt\n",
    "import seaborn as sns\n",
    "\n",
    "# Melt data for plotting\n",
    "melted_data = cc_data.melt(id_vars=['province', 'gndr'], value_vars=['2020', '2021', '2022', '2023'], var_name='Year', value_name='Value')\n",
    "\n",
    "plt.figure(figsize=(14, 8))\n",
    "sns.barplot(data=melted_data, x='Year', y='Value', hue='gndr', ci=None, palette='pastel')\n",
    "plt.title('Overall average of pay by gender between 2020-2023, in the capital and in country levels')\n",
    "plt.ylabel('Value')\n",
    "plt.savefig('outputs/paygap_by_gender_between_2020-2023.png')\n",
    "plt.show()\n",
    "\n",
    "\n"
   ]
  }
 ],
 "metadata": {
  "kernelspec": {
   "display_name": "Python 3 (ipykernel)",
   "language": "python",
   "name": "python3"
  },
  "language_info": {
   "codemirror_mode": {
    "name": "ipython",
    "version": 3
   },
   "file_extension": ".py",
   "mimetype": "text/x-python",
   "name": "python",
   "nbconvert_exporter": "python",
   "pygments_lexer": "ipython3",
   "version": "3.12.4"
  }
 },
 "nbformat": 4,
 "nbformat_minor": 5
}
